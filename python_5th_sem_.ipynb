{
  "nbformat": 4,
  "nbformat_minor": 0,
  "metadata": {
    "colab": {
      "provenance": [],
      "authorship_tag": "ABX9TyPIydMPRoFDgHsm+oRaeEOV",
      "include_colab_link": true
    },
    "kernelspec": {
      "name": "python3",
      "display_name": "Python 3"
    },
    "language_info": {
      "name": "python"
    }
  },
  "cells": [
    {
      "cell_type": "markdown",
      "metadata": {
        "id": "view-in-github",
        "colab_type": "text"
      },
      "source": [
        "<a href=\"https://colab.research.google.com/github/anantpock/Python5Th-Sem/blob/main/python_5th_sem_.ipynb\" target=\"_parent\"><img src=\"https://colab.research.google.com/assets/colab-badge.svg\" alt=\"Open In Colab\"/></a>"
      ]
    },
    {
      "cell_type": "code",
      "execution_count": 1,
      "metadata": {
        "id": "JV1rkCxL9yx3"
      },
      "outputs": [],
      "source": [
        "import re"
      ]
    },
    {
      "cell_type": "code",
      "source": [
        "import re\n",
        "txt=\"The rain in Spain\"\n",
        "x=re.search(\"^The.*Spain$\",txt)\n",
        "if x:\n",
        "    print(\"yes! we have a match\")\n",
        "else:\n",
        "    print(\"no match\")"
      ],
      "metadata": {
        "id": "YFRJSNw76qss"
      },
      "execution_count": 2,
      "outputs": []
    },
    {
      "cell_type": "code",
      "source": [
        "import re\n",
        "text = \"The cat sat on the mat. The dog barked at the cat. Cats and dogs live in harmony.\"\n",
        "\n",
        "matches1 = re.findall(r\"(cat|dog)\", text, flags=re.IGNORECASE)\n",
        "print(\"Occurrences of 'cat' or 'dog':\", matches1)\n",
        "\n",
        "matches2 = re.findall(r\"\\bc\\w{2}\\b\", text)\n",
        "print(\"Words starting with 'c' and having 3 letters:\", matches2)"
      ],
      "metadata": {
        "colab": {
          "base_uri": "https://localhost:8080/"
        },
        "id": "NvVrJ0dk63Ig",
        "outputId": "d265b8c9-5f75-4984-ce96-94d434fa63cb"
      },
      "execution_count": 3,
      "outputs": [
        {
          "output_type": "stream",
          "name": "stdout",
          "text": [
            "Occurrences of 'cat' or 'dog': ['cat', 'dog', 'cat', 'Cat', 'dog']\n",
            "Words starting with 'c' and having 3 letters: ['cat', 'cat']\n"
          ]
        }
      ]
    },
    {
      "cell_type": "code",
      "source": [
        "import re"
      ],
      "metadata": {
        "id": "aE6fL1QU-Z-z"
      },
      "execution_count": 4,
      "outputs": []
    },
    {
      "cell_type": "code",
      "source": [],
      "metadata": {
        "id": "Sxqk8gj9HY3s"
      },
      "execution_count": null,
      "outputs": []
    }
  ]
}